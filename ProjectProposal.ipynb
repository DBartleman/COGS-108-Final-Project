{
 "cells": [
  {
   "cell_type": "markdown",
   "metadata": {},
   "source": [
    "# COGS 108 - Assignment 4: Project Proposal"
   ]
  },
  {
   "cell_type": "markdown",
   "metadata": {},
   "source": [
    "## Important\n",
    "\n",
    "- Make sure all group member (3-5 people) are listed in the group members section.\n",
    "- ONE, and only one, member of your group should upload this notebook to TritonED. \n",
    "- Each member of the group will receive the same grade on this assignment. \n",
    "- Keep the file name the same: submit the file 'A4_ProjectProposal.ipynb'"
   ]
  },
  {
   "cell_type": "markdown",
   "metadata": {},
   "source": [
    "## Overview"
   ]
  },
  {
   "cell_type": "markdown",
   "metadata": {},
   "source": [
    "Read the project description, and detailed instructions for this assignment, in the 'A4_ProjectOutlineAndProposal' pdf."
   ]
  },
  {
   "cell_type": "markdown",
   "metadata": {},
   "source": [
    "## Group Members: Fill in the Student ID's of each group member here\n",
    "- A14178715\n",
    "- A11475687\n",
    "- A12594395\n",
    "- A11729103"
   ]
  },
  {
   "cell_type": "markdown",
   "metadata": {},
   "source": [
    "### Research Question\n",
    "\n",
    "What is your research question? (1-2 sentences)"
   ]
  },
  {
   "cell_type": "markdown",
   "metadata": {},
   "source": [
    "What would it look like if we visualized a predicted sea level rise for the future? How accurate can we get based on a large dataset of the sea level rising over a long period of time?"
   ]
  },
  {
   "cell_type": "markdown",
   "metadata": {},
   "source": [
    "### Hypothesis\n",
    "\n",
    "What is your prediction (2-3 sentences)"
   ]
  },
  {
   "cell_type": "markdown",
   "metadata": {},
   "source": [
    "We will see a fairly accurate model of future sea level, represented by a map of the coastal regions of California flooded. This model will get less and less accurate the further we go into the future."
   ]
  },
  {
   "cell_type": "markdown",
   "metadata": {},
   "source": [
    "### Dataset(s)\n",
    "\n",
    "What data will you use to answer your question? Describe the dataset in terms of number of observations, what kind of features it contains, etc. You must use at least one dataset containing at least approximately 1000 observations (if your data are smaller but you feel they are sufficient, email Prof. Voytek). You are welcome (and in fact recommended) to find multiple datasets! If you do so, describe each one, and briefly explain how you will combine them together. "
   ]
  },
  {
   "cell_type": "markdown",
   "metadata": {},
   "source": [
    "*Fill in your dataset information here*\n",
    "\n",
    "(Copy this information for each dataset)\n",
    "- Dataset Name: Global Mean Sea Level Data\n",
    "- Link to the dataset: ftp://podaac.jpl.nasa.gov/allData/merged_alt/L2/TP_J1_OSTM/global_mean_sea_level/GMSL_TPJAOS_V4_199209_201702.txt\n",
    "- Number of observations: 888\n",
    "\n",
    "1-2 sentences describing the dataset. \n",
    "\n",
    "This is NASA's data on calculating the sea level increase with satellites. It is exactly what we're looking for, except for one thing - it is 888 entries long. We really like this dataset. If we can't use it, we could probably find something else, but we would prefer to stick with this one as it is close enough to 1000 to make manually editing impractical and require python code to manage just like larger datasets. \n",
    "\n",
    "If you plan to use multiple datasets, add 1-2 sentences about how you plan to combine these datasets."
   ]
  },
  {
   "cell_type": "markdown",
   "metadata": {},
   "source": [
    "### Background & Prior Work\n",
    "\n",
    "Why is this question of interest, what background information led you to your hypothesis, and why is this important?\n",
    "\n",
    "Find some relevant prior work, and reference them. Even if you think you have a totally novel question, find the most similar prior work you can, and discuss how it relates to your project. \n",
    "\n",
    "References can be research publications, but they need not be: blogs, github repositories, company websites, etc., are viable references if they are relevant to your project.\n",
    "\n",
    "(2-3 paragraphs, including at least 2 references)"
   ]
  },
  {
   "cell_type": "markdown",
   "metadata": {},
   "source": [
    "Andrew F and Andrew B have worked with the google maps api in visualizing things for other classes (reference 1). We really enjoy working with it and found a part of the api that renders altitude. All of us are concerned with coastal flooding, as many of us live in the bay area and we all go to school here in San Diego. \n",
    "We have found many maps of coastal flooding viaualizations, but none that have actual data mapped to them with time. For example, this one:\n",
    "https://coast.noaa.gov/slr/beta/#/layer/slr/5/-13577187.776266184/4559067.75665158/10/satellite/3447/0.8/2050/interHigh/midAccretion\n",
    "just has a slider for sea level increase in feet. We want to take data of the sea level rising, fit it to a curve and make predictions based on the data. With those predictions, we want a more accurate visualization of the future sea level along the coast - not a meaningless and arbitrary \"6 feet\" increase where we don't even know if 6 feet is possible or likely. \n",
    "For the second reference, we linked yet another interactive map (there are hundreds of them) that only visualizes sea level increase in distance rather than any sort of prediction based on data. A few of our group members quite familiar with these sorts of maps. \n",
    "\n",
    "References (include a link):\n",
    "- 1) https://spiritrushahri.github.io/team17/\n",
    "- 2) http://geology.com/sea-level-rise/"
   ]
  },
  {
   "cell_type": "markdown",
   "metadata": {},
   "source": [
    "### Proposed Methods\n",
    "\n",
    "What methods will you use to analyze your data?\n",
    "\n",
    "- How 'clean' is the data? To the extent that it requires cleaning, how will you do so?\n",
    "- How will you analyze the data? Be as specific as you can. Briefly mention any pre-processing steps that are required for your methods (for example, checking data distributions and performing any transformations that may be required). Include a brief outline of how you will apply your chosen method(s). \n",
    "- What do you plan to report? Briefly mention any key visualizations you plan to create, and/or the kind of result you will be able to report that addresses your question (this could be, for example, the outcome of some statistical test(s), prediction error on a model, a model fit parameter, etc.).\n",
    "- Include a list of packages you expect to use for you project. If you plan to use packages we have not used in class, add a very brief description about them (a few words is sufficient). "
   ]
  },
  {
   "cell_type": "markdown",
   "metadata": {},
   "source": [
    "*Fill in your proposed methods information here:*\n",
    "\n",
    "*Data Cleaning (2-3 sentences)*\n",
    "The data is pretty clean, but there are obviously columns we do not need. The first one, for example - \n",
    "\"altimeter type 0=dual-frequency  999=single frequency (ie Poseidon-1)\" is useless for our purposes. So we will drop unnecessary columns and any rows with missing data, although there appear to be no missing data points.\n",
    "\n",
    "*Data Analysis (1-2 paragraphs)*\n",
    "The data has a very comprehensive explanation of what every column is. We are most interested in the variation, especially the smoothed variation (the last two columns). We will import the data as csv and then use matplotlib and pandas to visualize it. The end result may look similar to how it is visualized on the data source's page - \n",
    "https://climate.nasa.gov/vital-signs/sea-level/\n",
    "We will then take that data and fit a line to it and start making predictions. These predictions can be mapped with a slider, where the slider shows what the map looks like now, in 1 year, 5 years, 10 years, 20, 50 and 100, getting less accurate the further out it goes. \n",
    "\n",
    "*What to report (2-3 sentences)*\n",
    "We plan on plotting all of the data points and fitting a line to them which we assume to be a positive correlation for the sea level slowly rising over the period of time in the data. We are going to visualize the data via graph (matplotlib) and map (google map with shaded areas) representing our future predictions. \n",
    "\n",
    "Packages we plan to use:\n",
    "- a pandas\n",
    "- b numpy\n",
    "- c matplotlib\n",
    "- d google maps API (does this count?)\n",
    "We need the google maps api for visualizing our prediction of sea level increase on a map."
   ]
  },
  {
   "cell_type": "markdown",
   "metadata": {},
   "source": [
    "### Discussion\n",
    "\n",
    "What are the pitfalls and potential confounds of your data and/or methods? For example, how might biases in your data sources or analyses influence your interpretations? What will you do if you methods don't work and/or your hypotheses are wrong?\n",
    "\n",
    "(2-3 paragraphs)"
   ]
  },
  {
   "cell_type": "markdown",
   "metadata": {},
   "source": [
    "*Fill in your discussion information here*\n",
    "\n",
    "1) NASA's satellite data might not be the most accurate way of measuring sea level rise, as we are not experts. The data does not appear to be crosschecked against other methods of measuring sea level rise. The data does not appear to have a confidence interval for this set, whereas others we have found (that were not useful to us) had an impressive confidence interval.\n",
    "\n",
    "2) As previously mentioned, there are only 888 entries in our favorite dataset. \n",
    "\n",
    "3) If our hypothesis is wrong and we cannot accurately predict any future sea level increase, then we have fit a very poor curve to our data and cannot draw any conclusions. In that scenario, perhaps we need data from even earlier than 1993 to be more accurate?\n",
    "\n",
    "4) We have worked extensively with the google maps API, but doing exactly what we want this time (visualizing a flood) might be harder than we think. Many others have visualized this, so we don't think this will be too big of a problem. "
   ]
  }
 ],
 "metadata": {
  "kernelspec": {
   "display_name": "Python 2",
   "language": "python",
   "name": "python2"
  },
  "language_info": {
   "codemirror_mode": {
    "name": "ipython",
    "version": 2
   },
   "file_extension": ".py",
   "mimetype": "text/x-python",
   "name": "python",
   "nbconvert_exporter": "python",
   "pygments_lexer": "ipython2",
   "version": "2.7.13"
  }
 },
 "nbformat": 4,
 "nbformat_minor": 2
}
