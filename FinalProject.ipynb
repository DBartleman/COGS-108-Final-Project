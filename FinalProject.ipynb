{
 "cells": [
  {
   "cell_type": "markdown",
   "metadata": {},
   "source": [
    "# COGS 108 Final Project"
   ]
  },
  {
   "cell_type": "markdown",
   "metadata": {},
   "source": [
    "## Group Members: \n",
    "- A14178715\n",
    "- A11475687\n",
    "- A12594395\n",
    "- A11729103"
   ]
  },
  {
   "cell_type": "markdown",
   "metadata": {},
   "source": [
    "### Introduction and Background:\n",
    "\n",
    "What would it look like if we visualized a predicted sea level rise for the future? How accurate can we get based on a large dataset of the sea level rising over a long period of time?\n",
    "\n",
    "Well, we should see a fairly accurate model of future sea level, represented by a map of the coastal regions of California flooded. This model will get less and less accurate the further we go into the future. To start, we need data. Here is a good one:\n",
    "\n",
    "ftp://podaac.jpl.nasa.gov/allData/merged_alt/L2/TP_J1_OSTM/global_mean_sea_level/GMSL_TPJAOS_V4_199209_201702.txt\n",
    "\n",
    "This is NASA's data on calculating the sea level increase with satellites. The link worked a while back, but no longer works, so we downloaded the data while it was available and have included it in our repository.\n"
   ]
  },
  {
   "cell_type": "markdown",
   "metadata": {},
   "source": [
    "### Data Description:\n",
    "\n",
    "NASA's description of the data:\n",
    "\n",
    "\"Global Mean Sea Level Data\"\n",
    "This file contains Global Mean Sea Level (GMSL) variations computed at the NASA Goddard Space Flight Center under the \n",
    "auspices of the NASA MEaSUREs program. The GMSL was generated using the Integrated Multi-Mission Ocean Altimeter Data for Climate Research (http://podaac.jpl.nasa.gov/dataset/MERGED_TP_J1_OSTM_OST_ALL_V4). It combines Sea Surface Heights from TOPEX/Poseidon, Jason-1, OSTM/Jason-2, and Jason-3 to a common terrestrial reference frame with all inter-mission biases, range and geophysical corrections applied and placed onto a georeferenced orbit. This creates a consistent data record throughout time, regardless of the instrument used.\""
   ]
  },
  {
   "cell_type": "markdown",
   "metadata": {},
   "source": [
    "### Starting out: imports"
   ]
  },
  {
   "cell_type": "code",
   "execution_count": 1,
   "metadata": {
    "collapsed": false
   },
   "outputs": [],
   "source": [
    "# imports\n",
    "import csv\n",
    "import itertools\n",
    "import numpy as np\n",
    "import pandas as pd\n",
    "import matplotlib as plt\n",
    "%matplotlib inline\n",
    "  "
   ]
  },
  {
   "cell_type": "markdown",
   "metadata": {},
   "source": [
    "### Data Cleaning and Pre-processing"
   ]
  },
  {
   "cell_type": "code",
   "execution_count": 2,
   "metadata": {
    "collapsed": false
   },
   "outputs": [
    {
     "name": "stdout",
     "output_type": "stream",
     "text": [
      "            col2  col10  col11\n",
      "0    1993.011475 -40.63 -41.15\n",
      "0    1993.038696 -41.89 -41.74\n",
      "0    1993.065918 -42.02 -41.32\n",
      "0    1993.093018 -42.36 -41.23\n",
      "0    1993.120239 -41.57 -40.12\n",
      "0    1993.147339 -40.50 -38.81\n",
      "0    1993.174561 -39.52 -37.63\n",
      "0    1993.201660 -38.80 -36.72\n",
      "0    1993.228882 -38.39 -36.11\n",
      "999  1993.255981 -38.27 -35.76\n",
      "0    1993.283203 -38.42 -35.62\n",
      "0    1993.310303 -38.80 -35.68\n",
      "0    1993.337524 -39.37 -35.92\n",
      "0    1993.364746 -39.85 -36.09\n",
      "0    1993.391846 -40.35 -36.34\n",
      "0    1993.419067 -40.29 -36.15\n",
      "0    1993.446167 -40.27 -36.15\n",
      "0    1993.473389 -40.06 -36.14\n",
      "0    1993.500488 -39.91 -36.42\n",
      "0    1993.527710 -39.73 -36.88\n",
      "999  1993.554810 -39.32 -37.31\n",
      "0    1993.582031 -38.60 -37.59\n",
      "0    1993.609131 -37.68 -37.80\n",
      "0    1993.636352 -36.76 -38.05\n",
      "0    1993.663574 -35.96 -38.39\n",
      "0    1993.690674 -35.18 -38.66\n",
      "0    1993.717895 -34.39 -38.76\n",
      "0    1993.744995 -33.53 -38.56\n",
      "0    1993.772217 -32.89 -38.33\n",
      "0    1993.799316 -32.75 -38.31\n",
      "..           ...    ...    ...\n",
      "0    2016.332642  40.79  44.18\n",
      "0    2016.359741  40.32  44.03\n",
      "0    2016.386841  40.38  44.35\n",
      "0    2016.413940  40.82  44.95\n",
      "0    2016.441040  41.37  45.51\n",
      "0    2016.468140  41.75  45.72\n",
      "0    2016.495239  41.84  45.43\n",
      "0    2016.522339  41.72  44.72\n",
      "0    2016.549316  41.56  43.76\n",
      "0    2016.576416  41.61  42.83\n",
      "0    2016.603516  42.11  42.23\n",
      "0    2016.630615  43.11  42.07\n",
      "0    2016.657715  44.38  42.18\n",
      "0    2016.684814  45.55  42.28\n",
      "0    2016.711914  46.41  42.22\n",
      "0    2016.739014  47.01  42.10\n",
      "0    2016.766113  47.62  42.25\n",
      "0    2016.793213  48.38  42.82\n",
      "0    2016.820312  49.21  43.74\n",
      "0    2016.847412  49.84  44.71\n",
      "0    2016.874512  50.01  45.43\n",
      "0    2016.901611  49.56  45.70\n",
      "0    2016.928711  48.53  45.49\n",
      "0    2016.955811  47.16  44.98\n",
      "0    2016.982788  45.79  44.45\n",
      "0    2017.010010  44.72  44.16\n",
      "0    2017.037109  43.96  44.08\n",
      "0    2017.064331  43.46  44.13\n",
      "0    2017.091431  43.14  44.25\n",
      "0    2017.118652  42.94  44.38\n",
      "\n",
      "[888 rows x 3 columns]\n"
     ]
    }
   ],
   "source": [
    "txtFile = \"nasa_data_noheader.txt\"\n",
    "csvFile = \"data.csv\"\n",
    "def processTxt(txtFile):\n",
    "    with open(txtFile,'r') as in_file:\n",
    "        # Our lines in nasa data have 1-4 spaces of separation so first we split the line\n",
    "        stripped = (line.strip() for line in in_file)\n",
    "        lines = (line.split(\" \") for line in stripped if line)\n",
    "        \n",
    "        # Then here we write it to the csv and if there is an empty space it will replace it with nothing \n",
    "        with open(csvFile,'w') as out_file:\n",
    "            # Column titles (adds empty row 2 we can just delete once its in pandas dataframe)\n",
    "            writer = csv.writer(out_file)\n",
    "            writer.writerow(('col1','col2','col3','col4','col5','col6','col7','col8','col9','col10','col11','col12'))\n",
    "            for line in lines:\n",
    "                for index in line:\n",
    "                    # Replacing the white space with nothing\n",
    "                    index.replace(\" \", \"\") \n",
    "                    if index != \"\":\n",
    "                        out_file.write(index + \",\")\n",
    "                out_file.write('\\n')\n",
    "processTxt(txtFile)   \n",
    "\n",
    "df = pd.read_csv('data.csv')\n",
    "# remove the extra row (row2), drops only if all col = nan\n",
    "df = df.dropna(how = 'all')\n",
    "\n",
    "# hardcode way\n",
    "# df = df.drop(df.index[1])\n",
    "\n",
    "# make a new dataframe without the columns we don't need\n",
    "df2 = df[['col2', 'col10', 'col11']].copy()\n",
    "\n",
    "# print the dataframe so we know we are on the right track\n",
    "df2"
   ]
  },
  {
   "cell_type": "markdown",
   "metadata": {},
   "source": [
    "### Data Visualization"
   ]
  },
  {
   "cell_type": "code",
   "execution_count": 4,
   "metadata": {
    "collapsed": false
   },
   "outputs": [
    {
     "name": "stderr",
     "output_type": "stream",
     "text": [
      "/Users/drew/Documents/ana/anaconda/lib/python3.6/site-packages/matplotlib/axes/_base.py:2903: UserWarning: Attempting to set identical left==right results\n",
      "in singular transformations; automatically expanding.\n",
      "left=0.0, right=0.0\n",
      "  'left=%s, right=%s') % (left, right))\n"
     ]
    },
    {
     "data": {
      "text/plain": [
       "<matplotlib.axes._subplots.AxesSubplot at 0x112e9c358>"
      ]
     },
     "execution_count": 4,
     "metadata": {},
     "output_type": "execute_result"
    },
    {
     "data": {
      "image/png": "[encoded data removed]",
      "text/plain": [
       "<matplotlib.figure.Figure at 0x107f72a58>"
      ]
     },
     "metadata": {},
     "output_type": "display_data"
    }
   ],
   "source": [
    "# plot data using plt.something()\n",
    "\n",
    "\n",
    "# this is not needed but looks interesting\n",
    "# pd.scatter_matrix(df2)"
   ]
  },
  {
   "cell_type": "code",
   "execution_count": null,
   "metadata": {
    "collapsed": true
   },
   "outputs": [],
   "source": [
    "# predict future sea level rise for the next 100 years"
   ]
  },
  {
   "cell_type": "code",
   "execution_count": null,
   "metadata": {
    "collapsed": true
   },
   "outputs": [],
   "source": [
    "# show what this prediction looks like in a google map"
   ]
  },
  {
   "cell_type": "markdown",
   "metadata": {
    "collapsed": true
   },
   "source": [
    "### Conclusions and Discussion:\n",
    "\n",
    "the end"
   ]
  }
 ],
 "metadata": {
  "kernelspec": {
   "display_name": "Python 3",
   "language": "python",
   "name": "python3"
  },
  "language_info": {
   "codemirror_mode": {
    "name": "ipython",
    "version": 3
   },
   "file_extension": ".py",
   "mimetype": "text/x-python",
   "name": "python",
   "nbconvert_exporter": "python",
   "pygments_lexer": "ipython3",
   "version": "3.6.0"
  }
 },
 "nbformat": 4,
 "nbformat_minor": 2
}
