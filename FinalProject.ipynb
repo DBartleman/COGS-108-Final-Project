{
 "cells": [
  {
   "cell_type": "markdown",
   "metadata": {},
   "source": [
    "# COGS 108 Final Project"
   ]
  },
  {
   "cell_type": "markdown",
   "metadata": {},
   "source": [
    "## Group Members: \n",
    "- A14178715\n",
    "- A11475687\n",
    "- A12594395\n",
    "- A11729103"
   ]
  },
  {
   "cell_type": "markdown",
   "metadata": {},
   "source": [
    "### Introduction and Background:\n",
    "\n",
    "What would it look like if we visualized a predicted sea level rise for the future? How accurate can we get based on a large dataset of the sea level rising over a long period of time?\n",
    "\n",
    "Well, we should see a fairly accurate model of future sea level, represented by a map of the coastal regions of California flooded. This model will get less and less accurate the further we go into the future. To start, we need data. Here is a good one:\n",
    "\n",
    "ftp://podaac.jpl.nasa.gov/allData/merged_alt/L2/TP_J1_OSTM/global_mean_sea_level/GMSL_TPJAOS_V4_199209_201702.txt\n",
    "\n",
    "ftp://podaac.jpl.nasa.gov/allData/merged_alt/L2/TP_J1_OSTM/global_mean_sea_level/GMSL_TPJAOS_V4_199209_201703.txt (updated link, we downloaded the data from the first link while it still worked)\n",
    "\n",
    "This is NASA's data on calculating the sea level increase with satellites. The link worked a while back, but no longer works, so we downloaded the data while it was available and have included it in our repository.\n"
   ]
  },
  {
   "cell_type": "markdown",
   "metadata": {},
   "source": [
    "### Data Description:\n",
    "\n",
    "NASA's description of the data:\n",
    "\n",
    "\"Global Mean Sea Level Data\"\n",
    "This file contains Global Mean Sea Level (GMSL) variations computed at the NASA Goddard Space Flight Center under the \n",
    "auspices of the NASA MEaSUREs program. The GMSL was generated using the Integrated Multi-Mission Ocean Altimeter Data for Climate Research (http://podaac.jpl.nasa.gov/dataset/MERGED_TP_J1_OSTM_OST_ALL_V4). It combines Sea Surface Heights from TOPEX/Poseidon, Jason-1, OSTM/Jason-2, and Jason-3 to a common terrestrial reference frame with all inter-mission biases, range and geophysical corrections applied and placed onto a georeferenced orbit. This creates a consistent data record throughout time, regardless of the instrument used.\""
   ]
  },
  {
   "cell_type": "markdown",
   "metadata": {},
   "source": [
    "### Starting out: imports"
   ]
  },
  {
   "cell_type": "code",
   "execution_count": 1,
   "metadata": {
    "collapsed": false
   },
   "outputs": [],
   "source": [
    "# imports\n",
    "import csv\n",
    "import itertools\n",
    "import numpy as np\n",
    "import pandas as pd\n",
    "import matplotlib as plt\n",
    "import datetime\n",
    "import patsy\n",
    "import statsmodels.api as sm\n",
    "import statsmodels.formula.api as smf\n",
    "from sklearn.linear_model import LinearRegression\n",
    "%matplotlib inline\n",
    "  "
   ]
  },
  {
   "cell_type": "markdown",
   "metadata": {},
   "source": [
    "### Data Cleaning and Pre-processing"
   ]
  },
  {
   "cell_type": "code",
   "execution_count": 2,
   "metadata": {
    "collapsed": false
   },
   "outputs": [],
   "source": [
    "txtFile = \"nasa_data_noheader.txt\"\n",
    "csvFile = \"data.csv\"\n",
    "def processTxt(txtFile):\n",
    "    with open(txtFile,'r') as in_file:\n",
    "        # Our lines in nasa data have 1-4 spaces of separation so first we split the line\n",
    "        stripped = (line.strip() for line in in_file)\n",
    "        lines = (line.split(\" \") for line in stripped if line)\n",
    "        \n",
    "        # Then here we write it to the csv and if there is an empty space it will replace it with nothing \n",
    "        with open(csvFile,'w') as out_file:\n",
    "            # Column titles (adds empty row 2 we can just delete once its in pandas dataframe)\n",
    "            writer = csv.writer(out_file)\n",
    "            writer.writerow(('altimeter_type', 'file_cycle_#','date','obs_#','weighted_obs_#','mean_variation','std_dev_of_mean_var','smoothed_variation1','smoothed_variation2','std_dev_of_mean_var2','smoothed_variation3','smoothed_variation4', 'col12'))\n",
    "            # for the above line, there are many extra and redundant forms of the data, such as GIA applied vs not applied. These columns are explained in the data.\n",
    "            # four ur purposes, we only need a few of these columns, such as date, so the rest were not labelled in detail.\n",
    "            for line in lines:\n",
    "                for index in line:\n",
    "                    # Replacing the white space with nothing\n",
    "                    index.replace(\" \", \"\") \n",
    "                    if index != \"\":\n",
    "                        out_file.write(index + \",\")\n",
    "                out_file.write('\\n')\n",
    "processTxt(txtFile)\n",
    "\n",
    "\n",
    "df = pd.read_csv('data.csv')\n",
    "# remove the extra row (row2), drops only if all col = nan\n",
    "df = df.dropna(how = 'all')\n",
    "\n",
    "# hardcode way\n",
    "# df = df.drop(df.index[1])\n",
    "# only do this if you're absolutely sure the second row is all NaN. It looks fine to me in the original data file. \n",
    "\n",
    "# make a new dataframe without the columns we don't need\n",
    "df2 = df[['date', 'mean_variation', 'smoothed_variation3']].copy()\n",
    "\n",
    "# print the dataframe so we know we are on the right track\n",
    "df2\n",
    "\n",
    "# because the data point in every column of variation starts negative, we need to make them start at 0 for pretty plotting. \n",
    "# add 40.28 to every data point in the mean_variation column and 40.63 to every column in the smoothed_variation3 column\n",
    "# this brings the floor of our data up to get it to look more like the plot on NASA's page: \n",
    "# https://climate.nasa.gov/vital-signs/sea-level/\n",
    "df2['mean_variation'] += 40.28\n",
    "df2['smoothed_variation3'] += 40.63\n",
    "\n",
    "# lastly, change the dates to human readable dates that are easier to plot, like NASA did for their plot. \n",
    "# the dates are in fractions of years. There are many ways of converting them in python, just search \"convert fractional years to real dates in python\"\n",
    "\n",
    "def human_date(date):\n",
    "    days = (float(str(date-int(date))[1:]) * 365);\n",
    "    return datetime.datetime(int(date), 1, 1) + datetime.timedelta(days - 1)\n",
    "\n",
    "converted_dates = []\n",
    "\n",
    "for index, row in df2.iterrows():\n",
    "    converted_dates.append(human_date(row['date']))\n",
    "    \n",
    "df2 = df2.assign(human_readable = converted_dates)"
   ]
  },
  {
   "cell_type": "markdown",
   "metadata": {},
   "source": [
    "### Data Visualization"
   ]
  },
  {
   "cell_type": "code",
   "execution_count": 3,
   "metadata": {
    "collapsed": false
   },
   "outputs": [
    {
     "data": {
      "image/png": "[encoded data removed]",
      "text/plain": [
       "<matplotlib.figure.Figure at 0x113cbcb00>"
      ]
     },
     "metadata": {},
     "output_type": "display_data"
    }
   ],
   "source": [
    "# plot data using plt.something()\n",
    "\n",
    "fig, ax = plt.pyplot.subplots(figsize=(8,6))\n",
    "\n",
    "ax.plot(df2['human_readable'], df2['mean_variation'], 'o', label=\"Temperature\")\n",
    "legend = ax.legend(loc=\"best\")"
   ]
  },
  {
   "cell_type": "code",
   "execution_count": 7,
   "metadata": {
    "collapsed": false
   },
   "outputs": [
    {
     "data": {
      "image/png": "[encoded data removed]",
      "text/plain": [
       "<matplotlib.figure.Figure at 0x113d3fef0>"
      ]
     },
     "metadata": {},
     "output_type": "display_data"
    }
   ],
   "source": [
    "# predict future sea level rise for the next 100 years\n",
    "\n",
    "smresults = smf.ols('mean_variation ~ date', df2).fit()\n",
    "\n",
    "index = 888\n",
    "for i in range(2017, 2117):\n",
    "    prediction = smresults.predict(pd.DataFrame({'intercept': 1, 'date': [i]}))\n",
    "    series = pd.Series([int(i),float(prediction),0,human_date(float(i))], \n",
    "                       index=['date', 'mean_variation', 'smoothed_variation3', 'human_readable'], name=str(index))\n",
    "    df2 = df2.append(series)\n",
    "    index += 1\n",
    "\n",
    "fig, ax = plt.pyplot.subplots(figsize=(8,6))\n",
    "outcome_1, predictors_1 = patsy.dmatrices('mean_variation ~ date', df2)\n",
    "mod_1 = smf.OLS(outcome_1, predictors_1)\n",
    "res_1 = mod_1.fit()\n",
    "\n",
    "ax.plot(df2['human_readable'], df2['mean_variation'], 'o', label=\"Temperature\")\n",
    "ax.plot(df2['human_readable'], res_1.fittedvalues, 'r--.', label=\"Predicted\")\n",
    "legend = ax.legend(loc=\"best\")"
   ]
  },
  {
   "cell_type": "code",
   "execution_count": 5,
   "metadata": {
    "collapsed": true
   },
   "outputs": [],
   "source": [
    "# show what this prediction looks like in a google map\n",
    "\n",
    "# todo"
   ]
  },
  {
   "cell_type": "markdown",
   "metadata": {
    "collapsed": true
   },
   "source": [
    "### Conclusions and Discussion:\n",
    "\n",
    "the end"
   ]
  }
 ],
 "metadata": {
  "kernelspec": {
   "display_name": "Python 3",
   "language": "python",
   "name": "python3"
  },
  "language_info": {
   "codemirror_mode": {
    "name": "ipython",
    "version": 3
   },
   "file_extension": ".py",
   "mimetype": "text/x-python",
   "name": "python",
   "nbconvert_exporter": "python",
   "pygments_lexer": "ipython3",
   "version": "3.6.0"
  }
 },
 "nbformat": 4,
 "nbformat_minor": 2
}
